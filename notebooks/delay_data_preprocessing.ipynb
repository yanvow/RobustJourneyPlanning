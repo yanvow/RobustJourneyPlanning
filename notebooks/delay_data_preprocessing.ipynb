{
 "cells": [
  {
   "cell_type": "markdown",
   "id": "3e170753-2f12-4cce-9bcb-edc95495240c",
   "metadata": {},
   "source": [
    "# Delay modeling\n",
    "---\n",
    "\n",
    "In this section, we will go deeper into analyzing the `istdaten` and `sbb_stops_lausanne_region` datasets to understand and develop a delay model. We will begin by cleaning the data and then proceed to analyze and extract relevant information. Our analysis will focus on various parameters, assessing their importance and relevance to the impact on delays. These parameters include the day of the week, specific hours of the day, the type of transport, and the station itself along with its traffic. This analysis will help us identify delay patterns at different stations.\n",
    "Next, we will construct a dataframe that captures delays according to our selected parameters. This will enable us to predict delays for future trips.\n",
    "Most importantly, it will allow us to calculate the probability of not missing a connection, ensuring timely arrival at our desired destination within our time constraints."
   ]
  },
  {
   "cell_type": "code",
   "execution_count": 1,
   "id": "86aa3352-8f6c-40d6-b4aa-5caa506d33c5",
   "metadata": {},
   "outputs": [
    {
     "name": "stdout",
     "output_type": "stream",
     "text": [
      "Starting Spark application\n"
     ]
    },
    {
     "data": {
      "text/html": [
       "<table>\n",
       "<tr><th>ID</th><th>YARN Application ID</th><th>Kind</th><th>State</th><th>Spark UI</th><th>Driver log</th><th>User</th><th>Current session?</th></tr><tr><td>4859</td><td>application_1713270977862_5377</td><td>pyspark</td><td>idle</td><td><a target=\"_blank\" href=\"http://iccluster080.iccluster.epfl.ch:8088/proxy/application_1713270977862_5377/\">Link</a></td><td><a target=\"_blank\" href=\"http://iccluster072.iccluster.epfl.ch:8042/node/containerlogs/container_e06_1713270977862_5377_01_000001/livy\">Link</a></td><td>None</td><td>✔</td></tr></table>"
      ],
      "text/plain": [
       "<IPython.core.display.HTML object>"
      ]
     },
     "metadata": {},
     "output_type": "display_data"
    },
    {
     "data": {
      "application/vnd.jupyter.widget-view+json": {
       "model_id": "",
       "version_major": 2,
       "version_minor": 0
      },
      "text/plain": [
       "FloatProgress(value=0.0, bar_style='info', description='Progress:', layout=Layout(height='25px', width='50%'),…"
      ]
     },
     "metadata": {},
     "output_type": "display_data"
    },
    {
     "name": "stdout",
     "output_type": "stream",
     "text": [
      "SparkSession available as 'spark'.\n"
     ]
    },
    {
     "data": {
      "application/vnd.jupyter.widget-view+json": {
       "model_id": "",
       "version_major": 2,
       "version_minor": 0
      },
      "text/plain": [
       "FloatProgress(value=0.0, bar_style='info', description='Progress:', layout=Layout(height='25px', width='50%'),…"
      ]
     },
     "metadata": {},
     "output_type": "display_data"
    }
   ],
   "source": [
    "import os\n",
    "import numpy as np\n",
    "import plotly.express as px\n",
    "import heapq\n",
    "import warnings\n",
    "warnings.simplefilter(action='ignore', category=UserWarning)\n",
    "\n",
    "from pyspark.sql import SparkSession, Window\n",
    "from pyspark.sql.functions import col, row_number, to_timestamp, unix_timestamp, from_unixtime, when, hour, date_format, avg, abs, first, count, to_date, dayofmonth, month, year, udf\n",
    "from pyspark.sql import functions as F\n",
    "from pyspark.sql.types import FloatType\n",
    "import matplotlib.pyplot as plt\n",
    "from pyspark.sql.types import IntegerType "
   ]
  },
  {
   "cell_type": "code",
   "execution_count": 2,
   "id": "8179f4c8-aa64-42d3-8a18-54fb3a61fd72",
   "metadata": {},
   "outputs": [
    {
     "data": {
      "application/vnd.jupyter.widget-view+json": {
       "model_id": "",
       "version_major": 2,
       "version_minor": 0
      },
      "text/plain": [
       "FloatProgress(value=0.0, bar_style='info', description='Progress:', layout=Layout(height='25px', width='50%'),…"
      ]
     },
     "metadata": {},
     "output_type": "display_data"
    },
    {
     "name": "stdout",
     "output_type": "stream",
     "text": [
      "Start Spark name:livy-session-4859, version:3.3.2.3.3.7190.2-1"
     ]
    }
   ],
   "source": [
    "print(f'Start Spark name:{spark._sc.appName}, version:{spark.version}')"
   ]
  },
  {
   "cell_type": "code",
   "execution_count": 3,
   "id": "494d8b20-5191-4d32-b041-9d24c3df02ea",
   "metadata": {},
   "outputs": [
    {
     "data": {
      "application/vnd.jupyter.widget-view+json": {
       "model_id": "",
       "version_major": 2,
       "version_minor": 0
      },
      "text/plain": [
       "FloatProgress(value=0.0, bar_style='info', description='Progress:', layout=Layout(height='25px', width='50%'),…"
      ]
     },
     "metadata": {},
     "output_type": "display_data"
    },
    {
     "name": "stdout",
     "output_type": "stream",
     "text": [
      "<class 'pyspark.sql.session.SparkSession'>"
     ]
    }
   ],
   "source": [
    "type(spark)"
   ]
  },
  {
   "cell_type": "code",
   "execution_count": 4,
   "id": "1c67410b-62ce-43cd-9184-fe4438f71d4b",
   "metadata": {},
   "outputs": [
    {
     "data": {
      "application/vnd.jupyter.widget-view+json": {
       "model_id": "",
       "version_major": 2,
       "version_minor": 0
      },
      "text/plain": [
       "FloatProgress(value=0.0, bar_style='info', description='Progress:', layout=Layout(height='25px', width='50%'),…"
      ]
     },
     "metadata": {},
     "output_type": "display_data"
    },
    {
     "name": "stdout",
     "output_type": "stream",
     "text": [
      "remote USER=livy"
     ]
    }
   ],
   "source": [
    "print(f\"remote USER={os.getenv('USER',None)}\")"
   ]
  },
  {
   "cell_type": "code",
   "execution_count": 5,
   "id": "b6669cec-4baf-4ed4-8539-ff1fbb7080f2",
   "metadata": {},
   "outputs": [
    {
     "data": {
      "application/vnd.jupyter.widget-view+json": {
       "model_id": "",
       "version_major": 2,
       "version_minor": 0
      },
      "text/plain": [
       "FloatProgress(value=0.0, bar_style='info', description='Progress:', layout=Layout(height='25px', width='50%'),…"
      ]
     },
     "metadata": {},
     "output_type": "display_data"
    },
    {
     "name": "stdout",
     "output_type": "stream",
     "text": [
      "local USER=livy"
     ]
    }
   ],
   "source": [
    "print(f\"local USER={os.getenv('USER',None)}\")"
   ]
  },
  {
   "cell_type": "code",
   "execution_count": 6,
   "id": "0cdc7222-c0c2-402f-bb36-971ba5388e2e",
   "metadata": {},
   "outputs": [
    {
     "data": {
      "application/vnd.jupyter.widget-view+json": {
       "model_id": "",
       "version_major": 2,
       "version_minor": 0
      },
      "text/plain": [
       "FloatProgress(value=0.0, bar_style='info', description='Progress:', layout=Layout(height='25px', width='50%'),…"
      ]
     },
     "metadata": {},
     "output_type": "display_data"
    },
    {
     "name": "stdout",
     "output_type": "stream",
     "text": [
      "local username=livy\n",
      "hadoop_fs=hdfs://iccluster067.iccluster.epfl.ch:8020"
     ]
    }
   ],
   "source": [
    "username=os.getenv('USER', 'anonymous')\n",
    "hadoop_fs=os.getenv('HADOOP_DEFAULT_FS', 'hdfs://iccluster067.iccluster.epfl.ch:8020')\n",
    "print(f\"local username={username}\\nhadoop_fs={hadoop_fs}\")\n",
    " # (prevent deprecated np.bool error since numpy 1.24, until a new version of pandas/Spark fixes this)"
   ]
  },
  {
   "cell_type": "code",
   "execution_count": 7,
   "id": "38a5b116-d6c7-456b-8975-e4bbdd69d3b1",
   "metadata": {},
   "outputs": [
    {
     "data": {
      "application/vnd.jupyter.widget-view+json": {
       "model_id": "",
       "version_major": 2,
       "version_minor": 0
      },
      "text/plain": [
       "FloatProgress(value=0.0, bar_style='info', description='Progress:', layout=Layout(height='25px', width='50%'),…"
      ]
     },
     "metadata": {},
     "output_type": "display_data"
    },
    {
     "name": "stdout",
     "output_type": "stream",
     "text": [
      "remote username=amrad\n",
      "hadoop_fs=hdfs://iccluster067.iccluster.epfl.ch:8020"
     ]
    }
   ],
   "source": [
    "np.bool = np.bool_\n",
    "\n",
    "username=spark.conf.get('spark.executorEnv.USERNAME', 'anonymous')\n",
    "hadoop_fs=spark.conf.get('spark.executorEnv.HADOOP_DEFAULT_FS','hdfs://iccluster067.iccluster.epfl.ch:8020')\n",
    "print(f\"remote username={username}\\nhadoop_fs={hadoop_fs}\")"
   ]
  },
  {
   "cell_type": "code",
   "execution_count": 8,
   "id": "50a906c5-05fb-4671-b159-a1f9f4dad7ee",
   "metadata": {},
   "outputs": [
    {
     "data": {
      "application/vnd.jupyter.widget-view+json": {
       "model_id": "",
       "version_major": 2,
       "version_minor": 0
      },
      "text/plain": [
       "FloatProgress(value=0.0, bar_style='info', description='Progress:', layout=Layout(height='25px', width='50%'),…"
      ]
     },
     "metadata": {},
     "output_type": "display_data"
    },
    {
     "name": "stdout",
     "output_type": "stream",
     "text": [
      "+---------+--------------------------------+-----------+\n",
      "|namespace|tableName                       |isTemporary|\n",
      "+---------+--------------------------------+-----------+\n",
      "|amrad    |epd_expr_csv                    |false      |\n",
      "|amrad    |epd_sam_csv                     |false      |\n",
      "|amrad    |assignments                     |false      |\n",
      "|amrad    |sbb_stops_lausanne_region       |false      |\n",
      "|amrad    |sbb_stop_to_stop_lausanne_region|false      |\n",
      "|amrad    |sbb_stop_times_lausanne_region  |false      |\n",
      "|amrad    |weather_df                      |false      |\n",
      "|amrad    |grouped_data                    |false      |\n",
      "|amrad    |delay_clean_df                  |false      |\n",
      "+---------+--------------------------------+-----------+\n",
      "\n",
      "  namespace                         tableName  isTemporary\n",
      "0     amrad                      epd_expr_csv        False\n",
      "1     amrad                       epd_sam_csv        False\n",
      "2     amrad                       assignments        False\n",
      "3     amrad         sbb_stops_lausanne_region        False\n",
      "4     amrad  sbb_stop_to_stop_lausanne_region        False\n",
      "5     amrad    sbb_stop_times_lausanne_region        False\n",
      "6     amrad                        weather_df        False\n",
      "7     amrad                      grouped_data        False\n",
      "8     amrad                    delay_clean_df        False"
     ]
    }
   ],
   "source": [
    "spark.sql(f'CREATE DATABASE IF NOT EXISTS {username}')\n",
    "spark.sql(f'SHOW TABLES IN {username}').show(truncate=False)\n",
    "spark.sql(f'SHOW TABLES IN {username}').toPandas()"
   ]
  },
  {
   "cell_type": "markdown",
   "id": "1e622126-5248-4e29-8941-237daab66a01",
   "metadata": {},
   "source": [
    "### Import data and merge"
   ]
  },
  {
   "cell_type": "code",
   "execution_count": 10,
   "id": "e0d79767-a6e1-44ea-b7b5-1095fbcbe7c2",
   "metadata": {},
   "outputs": [
    {
     "data": {
      "application/vnd.jupyter.widget-view+json": {
       "model_id": "",
       "version_major": 2,
       "version_minor": 0
      },
      "text/plain": [
       "FloatProgress(value=0.0, bar_style='info', description='Progress:', layout=Layout(height='25px', width='50%'),…"
      ]
     },
     "metadata": {},
     "output_type": "display_data"
    }
   ],
   "source": [
    "df = spark.read.orc('/data/sbb/orc/istdaten')"
   ]
  },
  {
   "cell_type": "code",
   "execution_count": 11,
   "id": "5182d1a2-32db-443b-93e9-61a972044bb4",
   "metadata": {},
   "outputs": [
    {
     "data": {
      "application/vnd.jupyter.widget-view+json": {
       "model_id": "",
       "version_major": 2,
       "version_minor": 0
      },
      "text/plain": [
       "FloatProgress(value=0.0, bar_style='info', description='Progress:', layout=Layout(height='25px', width='50%'),…"
      ]
     },
     "metadata": {},
     "output_type": "display_data"
    },
    {
     "name": "stdout",
     "output_type": "stream",
     "text": [
      "+--------------+------------------+-----------+---------------------+-------------+----------+-------+---------+----------+------------------------+---------------+-----------------+-------+--------------------+----------------+-------------------+-----------------------+----------------+-------------------+-------------------------+--------+----+-----+\n",
      "|operation_date|journey_identifier|operator_id|operator_abbreviation|operator_name|product_id|line_id|line_text|circuit_id|transportation_mode_text|additional_trip|trip_cancellation|stop_id|           stop_name|    arrival_time|   arrival_forecast|arrival_forecast_status|  departure_time| departure_forecast|departure_forecast_status|non_stop|year|month|\n",
      "+--------------+------------------+-----------+---------------------+-------------+----------+-------+---------+----------+------------------------+---------------+-----------------+-------+--------------------+----------------+-------------------+-----------------------+----------------+-------------------+-------------------------+--------+----+-----+\n",
      "|    22.12.2023|    85:65:8031:001|      85:65|               THURBO|       THURBO|       Zug|   8031|      S30|          |                       S|          false|            false|8506101|   Felben-Wellhausen|22.12.2023 09:36|22.12.2023 09:36:34|                   REAL|22.12.2023 09:36|22.12.2023 09:36:53|                     REAL|   false|2023|   12|\n",
      "|    22.12.2023|    85:65:8031:001|      85:65|               THURBO|       THURBO|       Zug|   8031|      S30|          |                       S|          false|            false|8506102|Hüttlingen-Metten...|22.12.2023 09:39|22.12.2023 09:39:08|                   REAL|22.12.2023 09:39|22.12.2023 09:39:26|                     REAL|   false|2023|   12|\n",
      "+--------------+------------------+-----------+---------------------+-------------+----------+-------+---------+----------+------------------------+---------------+-----------------+-------+--------------------+----------------+-------------------+-----------------------+----------------+-------------------+-------------------------+--------+----+-----+\n",
      "only showing top 2 rows"
     ]
    }
   ],
   "source": [
    "df = df.withColumnRenamed('BETRIEBSTAG', 'operation_date') \\\n",
    "    .withColumnRenamed('FAHRT_BEZEICHNER', 'journey_identifier') \\\n",
    "    .withColumnRenamed('BETREIBER_ID', 'operator_id') \\\n",
    "    .withColumnRenamed('BETREIBER_ABK', 'operator_abbreviation') \\\n",
    "    .withColumnRenamed('BETREIBER_NAME', 'operator_name') \\\n",
    "    .withColumnRenamed('PRODUKT_ID', 'product_id') \\\n",
    "    .withColumnRenamed('LINIEN_ID', 'line_id') \\\n",
    "    .withColumnRenamed('LINIEN_TEXT', 'line_text') \\\n",
    "    .withColumnRenamed('UMLAUF_ID', 'circuit_id') \\\n",
    "    .withColumnRenamed('VERKEHRSMITTEL_TEXT', 'transportation_mode_text') \\\n",
    "    .withColumnRenamed('ZUSATZFAHRT_TF', 'additional_trip') \\\n",
    "    .withColumnRenamed('FAELLT_AUS_TF', 'trip_cancellation') \\\n",
    "    .withColumnRenamed('BPUIC', 'stop_id') \\\n",
    "    .withColumnRenamed('HALTESTELLEN_NAME', 'stop_name') \\\n",
    "    .withColumnRenamed('ANKUNFTSZEIT', 'arrival_time') \\\n",
    "    .withColumnRenamed('AN_PROGNOSE', 'arrival_forecast') \\\n",
    "    .withColumnRenamed('AN_PROGNOSE_STATUS', 'arrival_forecast_status') \\\n",
    "    .withColumnRenamed('ABFAHRTSZEIT', 'departure_time') \\\n",
    "    .withColumnRenamed('AB_PROGNOSE', 'departure_forecast') \\\n",
    "    .withColumnRenamed('AB_PROGNOSE_STATUS', 'departure_forecast_status') \\\n",
    "    .withColumnRenamed('DURCHFAHRT_TF', 'non_stop') \\\n",
    "    .withColumnRenamed('YEAR', 'year') \\\n",
    "    .withColumnRenamed('MONTH', 'month')\n",
    "df.show(2)"
   ]
  },
  {
   "cell_type": "markdown",
   "id": "900e7e07-d160-4872-b403-fa70c1e4d3f3",
   "metadata": {},
   "source": [
    "We will be focusing exclusively on data from 2023"
   ]
  },
  {
   "cell_type": "code",
   "execution_count": 12,
   "id": "138d01df-f55c-4717-838f-d79f2610d252",
   "metadata": {},
   "outputs": [
    {
     "data": {
      "application/vnd.jupyter.widget-view+json": {
       "model_id": "",
       "version_major": 2,
       "version_minor": 0
      },
      "text/plain": [
       "FloatProgress(value=0.0, bar_style='info', description='Progress:', layout=Layout(height='25px', width='50%'),…"
      ]
     },
     "metadata": {},
     "output_type": "display_data"
    }
   ],
   "source": [
    "df = df.filter((col(\"year\") == 2023))"
   ]
  },
  {
   "cell_type": "code",
   "execution_count": 13,
   "id": "22fe4b15-09d6-434f-943b-f73e3daa530f",
   "metadata": {},
   "outputs": [
    {
     "data": {
      "application/vnd.jupyter.widget-view+json": {
       "model_id": "",
       "version_major": 2,
       "version_minor": 0
      },
      "text/plain": [
       "FloatProgress(value=0.0, bar_style='info', description='Progress:', layout=Layout(height='25px', width='50%'),…"
      ]
     },
     "metadata": {},
     "output_type": "display_data"
    }
   ],
   "source": [
    "lausanne_stops_df = spark.sql(f\"SELECT * FROM {username}.sbb_stops_lausanne_region \")"
   ]
  },
  {
   "cell_type": "code",
   "execution_count": 14,
   "id": "f924132d-e59b-4c98-b093-0e3852dc7b03",
   "metadata": {},
   "outputs": [
    {
     "data": {
      "application/vnd.jupyter.widget-view+json": {
       "model_id": "",
       "version_major": 2,
       "version_minor": 0
      },
      "text/plain": [
       "FloatProgress(value=0.0, bar_style='info', description='Progress:', layout=Layout(height='25px', width='50%'),…"
      ]
     },
     "metadata": {},
     "output_type": "display_data"
    },
    {
     "name": "stdout",
     "output_type": "stream",
     "text": [
      "+-----------+--------------------+---------------+--------------+\n",
      "|    stop_id|           stop_name|       stop_lat|      stop_lon|\n",
      "+-----------+--------------------+---------------+--------------+\n",
      "|    8593869|Chavannes-R., Gly...|46.536280459692|6.576575179107|\n",
      "|    8592215|Renens VD, Longem...|46.525576568081|6.596598626793|\n",
      "|    8592204|Renens VD, Bois-G...|46.546302630167| 6.58426475794|\n",
      "|    8592188|   Pully, Montillier|46.512366838577|6.657657116663|\n",
      "|    8592170| Pully, Bourdonnière|46.506530539992|6.646589872361|\n",
      "|    8592137|  Lausanne, Cascades|46.540154847283|6.641208963809|\n",
      "|    8592130|Lausanne, Vert-Bo...|46.560498567613|6.684965901304|\n",
      "|    8592105|Lausanne, Provenc...|46.524136449395|6.606138735112|\n",
      "|    8592038| Lausanne, Eglantine|46.516329476459|6.641882700272|\n",
      "|    8592011|Lausanne, Chauder...|46.523802682534|6.627294060056|\n",
      "|    8592006|Lausanne, Chalet-...| 46.56775571707|6.699707255119|\n",
      "|    8588873| Ecublens VD, Pontet|46.529785451483|6.566019974517|\n",
      "|    8588440|       Pully, Somais|46.506703659561|6.657531352523|\n",
      "|    8588156|St-Sulpice VD, La...|46.511278762639|6.550613867393|\n",
      "|    8579237|      Lausanne, Ours|46.521243735137|6.640678957791|\n",
      "|    8511214|Carrouge VD, Cham...|46.602206204778|6.774051828043|\n",
      "|    8504010|       La Conversion|46.513083967626|6.678327351354|\n",
      "|    8504000|          Pully-Nord|46.514678927616|6.657989493318|\n",
      "|8501121:0:1|               Pully|46.511074745976|6.658223055292|\n",
      "|8501117:0:1|            Bussigny|46.547260262317|6.552428464267|\n",
      "+-----------+--------------------+---------------+--------------+\n",
      "only showing top 20 rows"
     ]
    }
   ],
   "source": [
    "lausanne_stops_df.show()"
   ]
  },
  {
   "cell_type": "code",
   "execution_count": 15,
   "id": "7da13899-005a-4b6c-a4da-88f21d56b062",
   "metadata": {},
   "outputs": [
    {
     "data": {
      "application/vnd.jupyter.widget-view+json": {
       "model_id": "",
       "version_major": 2,
       "version_minor": 0
      },
      "text/plain": [
       "FloatProgress(value=0.0, bar_style='info', description='Progress:', layout=Layout(height='25px', width='50%'),…"
      ]
     },
     "metadata": {},
     "output_type": "display_data"
    }
   ],
   "source": [
    "lausanne_stops_df = lausanne_stops_df.withColumnRenamed(\"stop_name\", \"stop_name_2\")\n",
    "lausanne_stops_df = lausanne_stops_df.withColumnRenamed(\"stop_id\", \"stop_id_2\")"
   ]
  },
  {
   "cell_type": "code",
   "execution_count": 16,
   "id": "d1b2e24a-acd9-414e-8b07-2d6da0ba182e",
   "metadata": {},
   "outputs": [
    {
     "data": {
      "application/vnd.jupyter.widget-view+json": {
       "model_id": "",
       "version_major": 2,
       "version_minor": 0
      },
      "text/plain": [
       "FloatProgress(value=0.0, bar_style='info', description='Progress:', layout=Layout(height='25px', width='50%'),…"
      ]
     },
     "metadata": {},
     "output_type": "display_data"
    }
   ],
   "source": [
    "merged_ist_df = df.alias(\"df\").join(\n",
    "    lausanne_stops_df.alias(\"lausanne\"),\n",
    "    col(\"df.stop_name\") == col(\"lausanne.stop_name_2\"),\n",
    "    \"inner\"\n",
    ")"
   ]
  },
  {
   "cell_type": "code",
   "execution_count": 17,
   "id": "6a28d498-6c19-4a7c-8b5f-50672ebedb8d",
   "metadata": {},
   "outputs": [
    {
     "data": {
      "application/vnd.jupyter.widget-view+json": {
       "model_id": "",
       "version_major": 2,
       "version_minor": 0
      },
      "text/plain": [
       "FloatProgress(value=0.0, bar_style='info', description='Progress:', layout=Layout(height='25px', width='50%'),…"
      ]
     },
     "metadata": {},
     "output_type": "display_data"
    },
    {
     "name": "stdout",
     "output_type": "stream",
     "text": [
      "+--------------+--------------------+-----------+---------------------+---------------+----------+-------------+---------+----------+------------------------+---------------+-----------------+-------+--------------------+----------------+-------------------+-----------------------+----------------+-------------------+-------------------------+--------+----+-----+---------------+--------------+\n",
      "|operation_date|  journey_identifier|operator_id|operator_abbreviation|  operator_name|product_id|      line_id|line_text|circuit_id|transportation_mode_text|additional_trip|trip_cancellation|stop_id|           stop_name|    arrival_time|   arrival_forecast|arrival_forecast_status|  departure_time| departure_forecast|departure_forecast_status|non_stop|year|month|       stop_lat|      stop_lon|\n",
      "+--------------+--------------------+-----------+---------------------+---------------+----------+-------------+---------+----------+------------------------+---------------+-----------------+-------+--------------------+----------------+-------------------+-----------------------+----------------+-------------------+-------------------------+--------+----+-----+---------------+--------------+\n",
      "|    22.12.2023|85:764:MBC701-100...|     85:764|             MBC Auto|Automobiles MBC|       Bus|85:764:MBC701|      701|          |                       B|          false|            false|8501210|Lausanne, Bourdon...|                |                   |                       |22.12.2023 05:40|22.12.2023 05:40:12|                 PROGNOSE|   false|2023|   12|46.523264942721|6.589807363244|\n",
      "|    22.12.2023|85:764:MBC701-100...|     85:764|             MBC Auto|Automobiles MBC|       Bus|85:764:MBC701|      701|          |                       B|          false|            false|8591950|Ecublens VD, allé...|22.12.2023 05:41|22.12.2023 05:42:13|               PROGNOSE|22.12.2023 05:41|22.12.2023 05:42:18|                 PROGNOSE|   false|2023|   12|46.520483444933|6.582234565398|\n",
      "+--------------+--------------------+-----------+---------------------+---------------+----------+-------------+---------+----------+------------------------+---------------+-----------------+-------+--------------------+----------------+-------------------+-----------------------+----------------+-------------------+-------------------------+--------+----+-----+---------------+--------------+\n",
      "only showing top 2 rows"
     ]
    }
   ],
   "source": [
    "merged_ist_df = merged_ist_df.drop(\"stop_name_2\")\n",
    "merged_ist_df = merged_ist_df.drop(\"stop_id_2\")\n",
    "merged_ist_df.show(2)"
   ]
  },
  {
   "cell_type": "markdown",
   "id": "dce75800-c004-45c5-8d2e-b737ac316264",
   "metadata": {},
   "source": [
    "## Cleaning part"
   ]
  },
  {
   "cell_type": "code",
   "execution_count": 18,
   "id": "f69e39e8-b17c-465e-8d3a-496e13143042",
   "metadata": {},
   "outputs": [
    {
     "data": {
      "application/vnd.jupyter.widget-view+json": {
       "model_id": "",
       "version_major": 2,
       "version_minor": 0
      },
      "text/plain": [
       "FloatProgress(value=0.0, bar_style='info', description='Progress:', layout=Layout(height='25px', width='50%'),…"
      ]
     },
     "metadata": {},
     "output_type": "display_data"
    }
   ],
   "source": [
    "merged_ist_df_clean = merged_ist_df.filter((merged_ist_df['additional_trip'] == False) # We remove additional trips\n",
    "                                       & (merged_ist_df['non_stop'] == False) # We remove trips where the transport do not stop\n",
    "                                       & (merged_ist_df['trip_cancellation'] == False)).select( # We remove failed trips \n",
    "        merged_ist_df['operation_date'], \n",
    "        merged_ist_df['product_id'], # transport type\n",
    "        merged_ist_df['stop_name'],\n",
    "        merged_ist_df['stop_id'],\n",
    "        F.to_timestamp(merged_ist_df[\"arrival_time\"], 'dd.MM.yyy HH:mm').alias(\"arrival_time\"),\n",
    "        F.to_timestamp(merged_ist_df[\"arrival_forecast\"], 'dd.MM.yyyy HH:mm:ss').alias(\"actual_arrival_time\"),\n",
    "        merged_ist_df['arrival_forecast_status'],\n",
    "        F.to_timestamp(merged_ist_df[\"departure_time\"], 'dd.MM.yyy HH:mm').alias(\"departure_time\"),\n",
    "        F.to_timestamp(merged_ist_df[\"departure_forecast\"], 'dd.MM.yyyy HH:mm:ss').alias(\"actual_departure_time\"),\n",
    "        merged_ist_df[\"departure_forecast_status\"],\n",
    "        merged_ist_df[\"year\"],\n",
    "        merged_ist_df[\"month\"],\n",
    "        merged_ist_df[\"stop_lat\"],\n",
    "        merged_ist_df[\"stop_lon\"])\n",
    "\n"
   ]
  },
  {
   "cell_type": "code",
   "execution_count": 19,
   "id": "7ff0312a-6f67-4b55-8a84-8fa5b1e11e2b",
   "metadata": {},
   "outputs": [
    {
     "data": {
      "application/vnd.jupyter.widget-view+json": {
       "model_id": "",
       "version_major": 2,
       "version_minor": 0
      },
      "text/plain": [
       "FloatProgress(value=0.0, bar_style='info', description='Progress:', layout=Layout(height='25px', width='50%'),…"
      ]
     },
     "metadata": {},
     "output_type": "display_data"
    },
    {
     "name": "stdout",
     "output_type": "stream",
     "text": [
      "+--------------+----------+--------------------+-------+-------------------+-------------------+-----------------------+-------------------+---------------------+-------------------------+----+-----+---------------+--------------+\n",
      "|operation_date|product_id|           stop_name|stop_id|       arrival_time|actual_arrival_time|arrival_forecast_status|     departure_time|actual_departure_time|departure_forecast_status|year|month|       stop_lat|      stop_lon|\n",
      "+--------------+----------+--------------------+-------+-------------------+-------------------+-----------------------+-------------------+---------------------+-------------------------+----+-----+---------------+--------------+\n",
      "|    22.12.2023|       Bus|Lausanne, Bourdon...|8501210|               null|               null|                       |2023-12-22 05:40:00|  2023-12-22 05:40:12|                 PROGNOSE|2023|   12|46.523264942721|6.589807363244|\n",
      "|    22.12.2023|       Bus|Ecublens VD, allé...|8591950|2023-12-22 05:41:00|2023-12-22 05:42:13|               PROGNOSE|2023-12-22 05:41:00|  2023-12-22 05:42:18|                 PROGNOSE|2023|   12|46.520483444933|6.582234565398|\n",
      "|    22.12.2023|       Bus|Ecublens VD, Blév...|8596053|2023-12-22 05:42:00|2023-12-22 05:43:00|               PROGNOSE|2023-12-22 05:42:00|  2023-12-22 05:43:05|                 PROGNOSE|2023|   12|46.519500615001|6.577257898723|\n",
      "+--------------+----------+--------------------+-------+-------------------+-------------------+-----------------------+-------------------+---------------------+-------------------------+----+-----+---------------+--------------+\n",
      "only showing top 3 rows"
     ]
    }
   ],
   "source": [
    "merged_ist_df_clean.show(3)"
   ]
  },
  {
   "cell_type": "code",
   "execution_count": 20,
   "id": "50cc1b2b-ed77-4436-aefc-9a544581a582",
   "metadata": {},
   "outputs": [
    {
     "data": {
      "application/vnd.jupyter.widget-view+json": {
       "model_id": "",
       "version_major": 2,
       "version_minor": 0
      },
      "text/plain": [
       "FloatProgress(value=0.0, bar_style='info', description='Progress:', layout=Layout(height='25px', width='50%'),…"
      ]
     },
     "metadata": {},
     "output_type": "display_data"
    }
   ],
   "source": [
    "nb = merged_ist_df_clean.count()"
   ]
  },
  {
   "cell_type": "markdown",
   "id": "4d569a2b-8f76-4469-bfe0-f1a9ecdd4bf9",
   "metadata": {},
   "source": [
    "We keep only **real** value for the arrival time.\n"
   ]
  },
  {
   "cell_type": "code",
   "execution_count": 21,
   "id": "cdcd05cc-ad25-49ee-b7cc-71175855331d",
   "metadata": {},
   "outputs": [
    {
     "data": {
      "application/vnd.jupyter.widget-view+json": {
       "model_id": "",
       "version_major": 2,
       "version_minor": 0
      },
      "text/plain": [
       "FloatProgress(value=0.0, bar_style='info', description='Progress:', layout=Layout(height='25px', width='50%'),…"
      ]
     },
     "metadata": {},
     "output_type": "display_data"
    }
   ],
   "source": [
    "merged_ist_df_clean = merged_ist_df_clean.filter(merged_ist_df_clean['departure_forecast_status'] == \"REAL\")"
   ]
  },
  {
   "cell_type": "code",
   "execution_count": 22,
   "id": "1d4f7dd3-c89d-45df-9dbf-127dd1662cc7",
   "metadata": {},
   "outputs": [
    {
     "data": {
      "application/vnd.jupyter.widget-view+json": {
       "model_id": "",
       "version_major": 2,
       "version_minor": 0
      },
      "text/plain": [
       "FloatProgress(value=0.0, bar_style='info', description='Progress:', layout=Layout(height='25px', width='50%'),…"
      ]
     },
     "metadata": {},
     "output_type": "display_data"
    },
    {
     "name": "stdout",
     "output_type": "stream",
     "text": [
      "4224498"
     ]
    }
   ],
   "source": [
    "merged_ist_df_clean.count()"
   ]
  },
  {
   "cell_type": "markdown",
   "id": "79221560-419e-4165-a5c2-3d4f08e9ad97",
   "metadata": {},
   "source": [
    "We remove also rows where departure time < arrival time. This situation is not possible"
   ]
  },
  {
   "cell_type": "code",
   "execution_count": 23,
   "id": "00cc5eae-1f99-41b5-bcf5-7dfb29ba7d64",
   "metadata": {},
   "outputs": [
    {
     "data": {
      "application/vnd.jupyter.widget-view+json": {
       "model_id": "",
       "version_major": 2,
       "version_minor": 0
      },
      "text/plain": [
       "FloatProgress(value=0.0, bar_style='info', description='Progress:', layout=Layout(height='25px', width='50%'),…"
      ]
     },
     "metadata": {},
     "output_type": "display_data"
    }
   ],
   "source": [
    "merged_df_clean = merged_ist_df_clean.filter(( merged_ist_df_clean.actual_arrival_time <= merged_ist_df_clean.actual_departure_time))"
   ]
  },
  {
   "cell_type": "markdown",
   "id": "56bbfb16-2c56-4658-9f31-35e591678bab",
   "metadata": {},
   "source": [
    "We remove empty product_id (no transport type defined) and null values."
   ]
  },
  {
   "cell_type": "code",
   "execution_count": 24,
   "id": "b1192c19-e256-4ec2-a003-4ed6e173c49d",
   "metadata": {},
   "outputs": [
    {
     "data": {
      "application/vnd.jupyter.widget-view+json": {
       "model_id": "",
       "version_major": 2,
       "version_minor": 0
      },
      "text/plain": [
       "FloatProgress(value=0.0, bar_style='info', description='Progress:', layout=Layout(height='25px', width='50%'),…"
      ]
     },
     "metadata": {},
     "output_type": "display_data"
    }
   ],
   "source": [
    "# we remove null values\n",
    "merged_df_clean = merged_df_clean.filter(col(\"product_id\") != '')\n",
    "merged_df_clean = merged_df_clean.dropna(subset=[ 'arrival_time', 'departure_time', 'actual_arrival_time', 'actual_departure_time'])"
   ]
  },
  {
   "cell_type": "code",
   "execution_count": 25,
   "id": "d15b9f07-e6eb-4f96-b87e-aa54458f55d4",
   "metadata": {},
   "outputs": [
    {
     "data": {
      "application/vnd.jupyter.widget-view+json": {
       "model_id": "",
       "version_major": 2,
       "version_minor": 0
      },
      "text/plain": [
       "FloatProgress(value=0.0, bar_style='info', description='Progress:', layout=Layout(height='25px', width='50%'),…"
      ]
     },
     "metadata": {},
     "output_type": "display_data"
    },
    {
     "name": "stdout",
     "output_type": "stream",
     "text": [
      "3845415"
     ]
    }
   ],
   "source": [
    "print(merged_df_clean.count())"
   ]
  },
  {
   "cell_type": "code",
   "execution_count": 26,
   "id": "f79390ee-8292-465d-8a0e-54c7fd8fb7fd",
   "metadata": {},
   "outputs": [
    {
     "data": {
      "application/vnd.jupyter.widget-view+json": {
       "model_id": "",
       "version_major": 2,
       "version_minor": 0
      },
      "text/plain": [
       "FloatProgress(value=0.0, bar_style='info', description='Progress:', layout=Layout(height='25px', width='50%'),…"
      ]
     },
     "metadata": {},
     "output_type": "display_data"
    }
   ],
   "source": [
    "#Add some columns\n",
    "merged_df_clean = merged_df_clean.withColumn(\"departure_delay\", abs(unix_timestamp(\"actual_departure_time\") - unix_timestamp(\"departure_time\")))\n",
    "merged_df_clean = merged_df_clean.withColumn(\"arrival_delay\", abs(unix_timestamp(\"actual_arrival_time\") - unix_timestamp(\"arrival_time\")))\n",
    "merged_df_clean = merged_df_clean.withColumn(\"departure_time_hour\", hour(\"departure_time\"))\n",
    "merged_df_clean = merged_df_clean.withColumn(\"arrival_time_hour\", hour(\"arrival_time\"))\n",
    "merged_df_clean = merged_df_clean.withColumn(\"day_name\", date_format(\"departure_time\", \"EEEE\"))\n",
    "# day of the week (1: Dimanche),(2 : Lundi),(3 : Mardi),(4 : Mercredi),(5 : Jeudi),(6 : Vendredi),(7 : Samedi)\n",
    "merged_df_clean = merged_df_clean.withColumn('day_of_week', F.dayofweek(merged_df_clean.departure_time))"
   ]
  },
  {
   "cell_type": "code",
   "execution_count": 27,
   "id": "913c8fea-6c35-440d-99e3-9a4691986ac8",
   "metadata": {},
   "outputs": [
    {
     "data": {
      "application/vnd.jupyter.widget-view+json": {
       "model_id": "",
       "version_major": 2,
       "version_minor": 0
      },
      "text/plain": [
       "FloatProgress(value=0.0, bar_style='info', description='Progress:', layout=Layout(height='25px', width='50%'),…"
      ]
     },
     "metadata": {},
     "output_type": "display_data"
    },
    {
     "name": "stdout",
     "output_type": "stream",
     "text": [
      "+--------------+----------+--------------------+-------+-------------------+-------------------+-----------------------+-------------------+---------------------+-------------------------+----+-----+---------------+--------------+---------------+-------------+-------------------+-----------------+--------+-----------+\n",
      "|operation_date|product_id|           stop_name|stop_id|       arrival_time|actual_arrival_time|arrival_forecast_status|     departure_time|actual_departure_time|departure_forecast_status|year|month|       stop_lat|      stop_lon|departure_delay|arrival_delay|departure_time_hour|arrival_time_hour|day_name|day_of_week|\n",
      "+--------------+----------+--------------------+-------+-------------------+-------------------+-----------------------+-------------------+---------------------+-------------------------+----+-----+---------------+--------------+---------------+-------------+-------------------+-----------------+--------+-----------+\n",
      "|    22.12.2023|       Bus|Ecublens VD, allé...|8591950|2023-12-22 10:35:00|2023-12-22 10:38:43|                   REAL|2023-12-22 10:35:00|  2023-12-22 10:38:48|                     REAL|2023|   12|46.520483444933|6.582234565398|            228|          223|                 10|               10|  Friday|          6|\n",
      "|    22.12.2023|       Bus|Ecublens VD, Blév...|8596053|2023-12-22 10:36:00|2023-12-22 10:40:10|                   REAL|2023-12-22 10:36:00|  2023-12-22 10:40:15|                     REAL|2023|   12|46.519500615001|6.577257898723|            255|          250|                 10|               10|  Friday|          6|\n",
      "|    22.12.2023|       Bus|Ecublens VD, Cham...|8591945|2023-12-22 10:37:00|2023-12-22 10:41:01|                   REAL|2023-12-22 10:37:00|  2023-12-22 10:41:06|                     REAL|2023|   12|46.518548674722|6.573880233255|            246|          241|                 10|               10|  Friday|          6|\n",
      "|    22.12.2023|       Bus|St-Sulpice VD, Pâ...|8592227|2023-12-22 10:38:00|2023-12-22 10:41:09|                   REAL|2023-12-22 10:38:00|  2023-12-22 10:41:14|                     REAL|2023|   12|46.516650925831|6.570448668869|            194|          189|                 10|               10|  Friday|          6|\n",
      "|    22.12.2023|       Bus|St-Sulpice VD, Pa...|8595223|2023-12-22 10:39:00|2023-12-22 10:42:19|                   REAL|2023-12-22 10:39:00|  2023-12-22 10:42:24|                     REAL|2023|   12|46.516582927084| 6.56378316946|            204|          199|                 10|               10|  Friday|          6|\n",
      "+--------------+----------+--------------------+-------+-------------------+-------------------+-----------------------+-------------------+---------------------+-------------------------+----+-----+---------------+--------------+---------------+-------------+-------------------+-----------------+--------+-----------+\n",
      "only showing top 5 rows"
     ]
    }
   ],
   "source": [
    "merged_df_clean.show(5)"
   ]
  },
  {
   "cell_type": "markdown",
   "id": "ed0bb267-408d-4f1b-9912-8fdf07e57c50",
   "metadata": {},
   "source": [
    "We filter out the irrelevant hour. As it was said we will focus only on regular and relevant hour of the day"
   ]
  },
  {
   "cell_type": "code",
   "execution_count": 28,
   "id": "e59c2b3d-574e-4a80-acd9-3497f124ceeb",
   "metadata": {},
   "outputs": [
    {
     "data": {
      "application/vnd.jupyter.widget-view+json": {
       "model_id": "",
       "version_major": 2,
       "version_minor": 0
      },
      "text/plain": [
       "FloatProgress(value=0.0, bar_style='info', description='Progress:', layout=Layout(height='25px', width='50%'),…"
      ]
     },
     "metadata": {},
     "output_type": "display_data"
    }
   ],
   "source": [
    "merged_df_clean = merged_df_clean.where(((merged_df_clean.arrival_time_hour) >= 6)\n",
    "                                          & ((merged_df_clean.arrival_time_hour) <= 22)\n",
    "                                          & (merged_df_clean.day_of_week >= 2) \n",
    "                                          & (merged_df_clean.day_of_week <= 6))"
   ]
  },
  {
   "cell_type": "markdown",
   "id": "bf7ecc10-20cd-4401-935b-836e9113df87",
   "metadata": {},
   "source": [
    "### Delay per hour of a day analysis"
   ]
  },
  {
   "cell_type": "code",
   "execution_count": 29,
   "id": "3673fb7d-006c-4c16-9f83-ecee89ec4747",
   "metadata": {},
   "outputs": [
    {
     "data": {
      "application/vnd.jupyter.widget-view+json": {
       "model_id": "",
       "version_major": 2,
       "version_minor": 0
      },
      "text/plain": [
       "FloatProgress(value=0.0, bar_style='info', description='Progress:', layout=Layout(height='25px', width='50%'),…"
      ]
     },
     "metadata": {},
     "output_type": "display_data"
    }
   ],
   "source": [
    "mean_delay_by_hour = merged_df_clean.groupby('arrival_time_hour').agg(F.mean('arrival_delay').alias('mean_delay')).orderBy('arrival_time_hour')\n",
    "mean_delay_by_hour_df = mean_delay_by_hour.toPandas().sort_values('arrival_time_hour')"
   ]
  },
  {
   "cell_type": "code",
   "execution_count": 30,
   "id": "d1710721-fe4e-485c-ba51-65030ee57e56",
   "metadata": {},
   "outputs": [
    {
     "data": {
      "application/vnd.jupyter.widget-view+json": {
       "model_id": "",
       "version_major": 2,
       "version_minor": 0
      },
      "text/plain": [
       "FloatProgress(value=0.0, bar_style='info', description='Progress:', layout=Layout(height='25px', width='50%'),…"
      ]
     },
     "metadata": {},
     "output_type": "display_data"
    },
    {
     "data": {
      "image/png": "[encoded data removed]",
      "text/plain": [
       "<IPython.core.display.Image object>"
      ]
     },
     "metadata": {},
     "output_type": "display_data"
    }
   ],
   "source": [
    "color = ['r' if x in [7, 8, 17, 18]\n",
    "               else 'g' for x in range(6, 22)]\n",
    "\n",
    "plt.figure()\n",
    "plt.bar(mean_delay_by_hour_df['arrival_time_hour'], mean_delay_by_hour_df['mean_delay'], color =color)\n",
    "plt.xlabel('Hour of the day')\n",
    "plt.ylabel('Mean delay')\n",
    "plt.xticks(range(6, 23))\n",
    "plt.show()\n",
    "%matplot plt"
   ]
  },
  {
   "cell_type": "code",
   "execution_count": 31,
   "id": "6452595a-c863-4810-88a6-b3d8c466441c",
   "metadata": {},
   "outputs": [
    {
     "data": {
      "application/vnd.jupyter.widget-view+json": {
       "model_id": "",
       "version_major": 2,
       "version_minor": 0
      },
      "text/plain": [
       "FloatProgress(value=0.0, bar_style='info', description='Progress:', layout=Layout(height='25px', width='50%'),…"
      ]
     },
     "metadata": {},
     "output_type": "display_data"
    }
   ],
   "source": [
    "@F.udf\n",
    "def get_hour_cat(hour):\n",
    "    hour_categorie = 0\n",
    "    if hour in [7, 8, 17,18]:\n",
    "        hour_categorie = 1 # rush hour\n",
    "    else:\n",
    "        hour_categorie = 2   \n",
    "    return hour_categorie\n",
    "\n",
    "merged_df_clean = merged_df_clean.withColumn('hour_cat', get_hour_cat(merged_df_clean.arrival_time_hour).cast(IntegerType()))"
   ]
  },
  {
   "cell_type": "markdown",
   "id": "e5b16d2e-c108-4244-ac69-6471a6165451",
   "metadata": {},
   "source": [
    "Clearly we have significantly more delay during the rush hours, which correspond to the moment where people usually goes to work and back to their home. We thus decide to create a categorie of hour to emphasise on that."
   ]
  },
  {
   "cell_type": "code",
   "execution_count": 32,
   "id": "d00a7855-f0c2-450b-924f-7d1382e9b077",
   "metadata": {},
   "outputs": [
    {
     "data": {
      "application/vnd.jupyter.widget-view+json": {
       "model_id": "",
       "version_major": 2,
       "version_minor": 0
      },
      "text/plain": [
       "FloatProgress(value=0.0, bar_style='info', description='Progress:', layout=Layout(height='25px', width='50%'),…"
      ]
     },
     "metadata": {},
     "output_type": "display_data"
    },
    {
     "name": "stdout",
     "output_type": "stream",
     "text": [
      "+--------------+----------+--------------------+-------+-------------------+-------------------+-----------------------+-------------------+---------------------+-------------------------+----+-----+---------------+--------------+---------------+-------------+-------------------+-----------------+--------+-----------+--------+\n",
      "|operation_date|product_id|           stop_name|stop_id|       arrival_time|actual_arrival_time|arrival_forecast_status|     departure_time|actual_departure_time|departure_forecast_status|year|month|       stop_lat|      stop_lon|departure_delay|arrival_delay|departure_time_hour|arrival_time_hour|day_name|day_of_week|hour_cat|\n",
      "+--------------+----------+--------------------+-------+-------------------+-------------------+-----------------------+-------------------+---------------------+-------------------------+----+-----+---------------+--------------+---------------+-------------+-------------------+-----------------+--------+-----------+--------+\n",
      "|    22.12.2023|       Bus|Ecublens VD, allé...|8591950|2023-12-22 10:35:00|2023-12-22 10:38:43|                   REAL|2023-12-22 10:35:00|  2023-12-22 10:38:48|                     REAL|2023|   12|46.520483444933|6.582234565398|            228|          223|                 10|               10|  Friday|          6|       2|\n",
      "|    22.12.2023|       Bus|Ecublens VD, Blév...|8596053|2023-12-22 10:36:00|2023-12-22 10:40:10|                   REAL|2023-12-22 10:36:00|  2023-12-22 10:40:15|                     REAL|2023|   12|46.519500615001|6.577257898723|            255|          250|                 10|               10|  Friday|          6|       2|\n",
      "+--------------+----------+--------------------+-------+-------------------+-------------------+-----------------------+-------------------+---------------------+-------------------------+----+-----+---------------+--------------+---------------+-------------+-------------------+-----------------+--------+-----------+--------+\n",
      "only showing top 2 rows"
     ]
    }
   ],
   "source": [
    "merged_df_clean.show(2)"
   ]
  },
  {
   "cell_type": "markdown",
   "id": "f94b728a-7dc7-4542-973b-25f8a820ae5f",
   "metadata": {},
   "source": [
    "### delay per day of the week analysis"
   ]
  },
  {
   "cell_type": "code",
   "execution_count": 33,
   "id": "7aef478b-8183-4d84-9dfe-413abf4022eb",
   "metadata": {},
   "outputs": [
    {
     "data": {
      "application/vnd.jupyter.widget-view+json": {
       "model_id": "",
       "version_major": 2,
       "version_minor": 0
      },
      "text/plain": [
       "FloatProgress(value=0.0, bar_style='info', description='Progress:', layout=Layout(height='25px', width='50%'),…"
      ]
     },
     "metadata": {},
     "output_type": "display_data"
    }
   ],
   "source": [
    "delay_by_day_of_week = merged_df_clean.groupby('day_of_week').agg(F.mean('arrival_delay').alias('mean_delay'))"
   ]
  },
  {
   "cell_type": "code",
   "execution_count": 34,
   "id": "6f13ebe7-71df-4053-8a5a-a378a6728fc2",
   "metadata": {},
   "outputs": [
    {
     "data": {
      "application/vnd.jupyter.widget-view+json": {
       "model_id": "",
       "version_major": 2,
       "version_minor": 0
      },
      "text/plain": [
       "FloatProgress(value=0.0, bar_style='info', description='Progress:', layout=Layout(height='25px', width='50%'),…"
      ]
     },
     "metadata": {},
     "output_type": "display_data"
    }
   ],
   "source": [
    "delay_by_day_of_week_df = delay_by_day_of_week.toPandas().sort_values('day_of_week')"
   ]
  },
  {
   "cell_type": "code",
   "execution_count": 35,
   "id": "17ae9351-bd40-4181-99a7-4b6834e3b972",
   "metadata": {},
   "outputs": [
    {
     "data": {
      "application/vnd.jupyter.widget-view+json": {
       "model_id": "",
       "version_major": 2,
       "version_minor": 0
      },
      "text/plain": [
       "FloatProgress(value=0.0, bar_style='info', description='Progress:', layout=Layout(height='25px', width='50%'),…"
      ]
     },
     "metadata": {},
     "output_type": "display_data"
    },
    {
     "name": "stdout",
     "output_type": "stream",
     "text": [
      "   day_of_week  mean_delay\n",
      "4            2   89.660139\n",
      "1            3   90.138558\n",
      "3            4   86.870056\n",
      "2            5   89.181492\n",
      "0            6   91.575775"
     ]
    }
   ],
   "source": [
    "delay_by_day_of_week_df"
   ]
  },
  {
   "cell_type": "code",
   "execution_count": 36,
   "id": "31fe0495-6f56-4d82-a4bd-574842c19cd4",
   "metadata": {},
   "outputs": [
    {
     "data": {
      "application/vnd.jupyter.widget-view+json": {
       "model_id": "",
       "version_major": 2,
       "version_minor": 0
      },
      "text/plain": [
       "FloatProgress(value=0.0, bar_style='info', description='Progress:', layout=Layout(height='25px', width='50%'),…"
      ]
     },
     "metadata": {},
     "output_type": "display_data"
    },
    {
     "data": {
      "image/png": "[encoded data removed]",
      "text/plain": [
       "<IPython.core.display.Image object>"
      ]
     },
     "metadata": {},
     "output_type": "display_data"
    }
   ],
   "source": [
    "delay_by_day_of_week_df = delay_by_day_of_week_df[(delay_by_day_of_week_df['day_of_week'] >= 2) & (delay_by_day_of_week_df['day_of_week'] <= 6)]\n",
    "\n",
    "plt.figure()\n",
    "\n",
    "plt.bar(delay_by_day_of_week_df['day_of_week'] - 2, delay_by_day_of_week_df['mean_delay'])\n",
    "plt.xlabel('Day of the Week')\n",
    "plt.ylabel('Mean Delay')\n",
    "weekdays = ['Monday', 'Tuesday', 'Wednesday', 'Thursday', 'Friday']\n",
    "plt.xticks(range(len(weekdays)), weekdays)\n",
    "\n",
    "plt.show()\n",
    "%matplot plt"
   ]
  },
  {
   "cell_type": "markdown",
   "id": "608b7291-7120-4221-aa88-66e5688f5c5b",
   "metadata": {},
   "source": [
    "There is no significant difference. We will thus not take into account the day in the creating of the average delay dataframe"
   ]
  },
  {
   "cell_type": "markdown",
   "id": "2d098e17-11b8-41fe-ba4b-b548fb854690",
   "metadata": {},
   "source": [
    "#### Creation of the final cleaned dataframe"
   ]
  },
  {
   "cell_type": "code",
   "execution_count": 37,
   "id": "0ca1fa87-4301-400c-88e8-7297e05c2871",
   "metadata": {},
   "outputs": [
    {
     "data": {
      "application/vnd.jupyter.widget-view+json": {
       "model_id": "",
       "version_major": 2,
       "version_minor": 0
      },
      "text/plain": [
       "FloatProgress(value=0.0, bar_style='info', description='Progress:', layout=Layout(height='25px', width='50%'),…"
      ]
     },
     "metadata": {},
     "output_type": "display_data"
    }
   ],
   "source": [
    "merged_df_clean_new = merged_df_clean.select(merged_df_clean[\"stop_name\"],\n",
    "                                         merged_df_clean[\"product_id\"],\n",
    "                                         merged_df_clean[\"hour_cat\"],\n",
    "                                         merged_df_clean[\"day_name\"],\n",
    "                                         merged_df_clean[\"arrival_delay\"])"
   ]
  },
  {
   "cell_type": "code",
   "execution_count": 38,
   "id": "f67f718f-7142-4766-86b0-ed8dab27b371",
   "metadata": {},
   "outputs": [
    {
     "data": {
      "application/vnd.jupyter.widget-view+json": {
       "model_id": "",
       "version_major": 2,
       "version_minor": 0
      },
      "text/plain": [
       "FloatProgress(value=0.0, bar_style='info', description='Progress:', layout=Layout(height='25px', width='50%'),…"
      ]
     },
     "metadata": {},
     "output_type": "display_data"
    },
    {
     "name": "stdout",
     "output_type": "stream",
     "text": [
      "+--------------------+----------+--------+--------+-------------+\n",
      "|           stop_name|product_id|hour_cat|day_name|arrival_delay|\n",
      "+--------------------+----------+--------+--------+-------------+\n",
      "|Ecublens VD, allé...|       Bus|       2|  Friday|          223|\n",
      "|Ecublens VD, Blév...|       Bus|       2|  Friday|          250|\n",
      "|Ecublens VD, Cham...|       Bus|       2|  Friday|          241|\n",
      "|St-Sulpice VD, Pâ...|       Bus|       2|  Friday|          189|\n",
      "|St-Sulpice VD, Pa...|       Bus|       2|  Friday|          199|\n",
      "+--------------------+----------+--------+--------+-------------+\n",
      "only showing top 5 rows"
     ]
    }
   ],
   "source": [
    "merged_df_clean_new.show(5)"
   ]
  },
  {
   "cell_type": "markdown",
   "id": "3da5206a-5309-4576-9c7d-d3ae9fbec18e",
   "metadata": {},
   "source": [
    "**We will use this dataframe now through the rest of our notebook**"
   ]
  },
  {
   "cell_type": "markdown",
   "id": "668d72e8-eb05-4b16-8482-fec73f571110",
   "metadata": {},
   "source": [
    "### Showing again the significant difference between rush and normal hour"
   ]
  },
  {
   "cell_type": "code",
   "execution_count": 39,
   "id": "5ed94ea5-f905-441b-8c0f-6dd47502b10d",
   "metadata": {},
   "outputs": [
    {
     "data": {
      "application/vnd.jupyter.widget-view+json": {
       "model_id": "",
       "version_major": 2,
       "version_minor": 0
      },
      "text/plain": [
       "FloatProgress(value=0.0, bar_style='info', description='Progress:', layout=Layout(height='25px', width='50%'),…"
      ]
     },
     "metadata": {},
     "output_type": "display_data"
    }
   ],
   "source": [
    "mean_delay_by_cat = merged_df_clean_new.groupby('hour_cat').agg(F.mean('arrival_delay').alias('mean_delay'))\n",
    "mean_delay_by_cat_df = mean_delay_by_cat.toPandas()"
   ]
  },
  {
   "cell_type": "code",
   "execution_count": 40,
   "id": "0e5df26a-9b8d-4b3f-ab89-f08a171a23e9",
   "metadata": {},
   "outputs": [
    {
     "data": {
      "application/vnd.jupyter.widget-view+json": {
       "model_id": "",
       "version_major": 2,
       "version_minor": 0
      },
      "text/plain": [
       "FloatProgress(value=0.0, bar_style='info', description='Progress:', layout=Layout(height='25px', width='50%'),…"
      ]
     },
     "metadata": {},
     "output_type": "display_data"
    },
    {
     "name": "stdout",
     "output_type": "stream",
     "text": [
      "   hour_cat  mean_delay\n",
      "0         1  104.341580\n",
      "1         2   84.017537"
     ]
    }
   ],
   "source": [
    "mean_delay_by_cat_df.head()"
   ]
  },
  {
   "cell_type": "code",
   "execution_count": 41,
   "id": "9b8d8874-0ea3-4e7b-bee4-9eba66e3e833",
   "metadata": {},
   "outputs": [
    {
     "data": {
      "application/vnd.jupyter.widget-view+json": {
       "model_id": "",
       "version_major": 2,
       "version_minor": 0
      },
      "text/plain": [
       "FloatProgress(value=0.0, bar_style='info', description='Progress:', layout=Layout(height='25px', width='50%'),…"
      ]
     },
     "metadata": {},
     "output_type": "display_data"
    },
    {
     "data": {
      "image/png": "[encoded data removed]",
      "text/plain": [
       "<IPython.core.display.Image object>"
      ]
     },
     "metadata": {},
     "output_type": "display_data"
    }
   ],
   "source": [
    "plt.figure()\n",
    "plot= mean_delay_by_cat_df.plot(kind='bar', x='hour_cat', y='mean_delay', legend=None)\n",
    "plt.xlabel('hour categorie')\n",
    "plt.ylabel('Mean delay')\n",
    "labels = ['Rush Time', 'Normal Time']\n",
    "plt.xticks(ticks=plot.get_xticks(), labels=labels, rotation=0) \n",
    "plt.show()\n",
    "%matplot plt"
   ]
  },
  {
   "cell_type": "markdown",
   "id": "94538ea3-7d68-4911-9922-c5ef2fef1a04",
   "metadata": {},
   "source": [
    "### Delay per transport type analysis"
   ]
  },
  {
   "cell_type": "code",
   "execution_count": 42,
   "id": "30991b67-43e3-45f5-b674-48b243620ee4",
   "metadata": {},
   "outputs": [
    {
     "data": {
      "application/vnd.jupyter.widget-view+json": {
       "model_id": "",
       "version_major": 2,
       "version_minor": 0
      },
      "text/plain": [
       "FloatProgress(value=0.0, bar_style='info', description='Progress:', layout=Layout(height='25px', width='50%'),…"
      ]
     },
     "metadata": {},
     "output_type": "display_data"
    }
   ],
   "source": [
    "mean_delay_product = merged_df_clean_new.groupby('product_id').agg(F.mean('arrival_delay').alias('mean_delay'))\n",
    "mean_delay_product_df = mean_delay_product.toPandas()"
   ]
  },
  {
   "cell_type": "code",
   "execution_count": 43,
   "id": "02e1f80a-93de-4e06-b9d7-b5f26d9ad381",
   "metadata": {},
   "outputs": [
    {
     "data": {
      "application/vnd.jupyter.widget-view+json": {
       "model_id": "",
       "version_major": 2,
       "version_minor": 0
      },
      "text/plain": [
       "FloatProgress(value=0.0, bar_style='info', description='Progress:', layout=Layout(height='25px', width='50%'),…"
      ]
     },
     "metadata": {},
     "output_type": "display_data"
    },
    {
     "data": {
      "image/png": "[encoded data removed]",
      "text/plain": [
       "<IPython.core.display.Image object>"
      ]
     },
     "metadata": {},
     "output_type": "display_data"
    }
   ],
   "source": [
    "plt.figure()\n",
    "plt.bar(mean_delay_product_df['product_id'], mean_delay_product_df['mean_delay'])\n",
    "plt.xlabel('Hour of the day')\n",
    "plt.ylabel('Mean delay')\n",
    "plt.show()\n",
    "%matplot plt"
   ]
  },
  {
   "cell_type": "markdown",
   "id": "32caab0d-6c19-4976-b46f-ca5608824c7a",
   "metadata": {},
   "source": [
    "Clearly bus have significantly more delay that the train/metro. This information is relevant and will be used to create our dataframe"
   ]
  },
  {
   "cell_type": "markdown",
   "id": "a6f9f667-9750-4276-8cba-e808c126117f",
   "metadata": {},
   "source": [
    "### Delay distribution analysis"
   ]
  },
  {
   "cell_type": "code",
   "execution_count": 44,
   "id": "e7dab39d-c24c-4869-8d3d-639048cbe949",
   "metadata": {},
   "outputs": [
    {
     "data": {
      "application/vnd.jupyter.widget-view+json": {
       "model_id": "",
       "version_major": 2,
       "version_minor": 0
      },
      "text/plain": [
       "FloatProgress(value=0.0, bar_style='info', description='Progress:', layout=Layout(height='25px', width='50%'),…"
      ]
     },
     "metadata": {},
     "output_type": "display_data"
    }
   ],
   "source": [
    "sampled_df = merged_df_clean_new.sample(withReplacement=False, fraction=0.05, seed=42)"
   ]
  },
  {
   "cell_type": "code",
   "execution_count": 45,
   "id": "9c1740e3-a0dc-46fb-9e8b-84ffd62c6438",
   "metadata": {},
   "outputs": [
    {
     "data": {
      "application/vnd.jupyter.widget-view+json": {
       "model_id": "",
       "version_major": 2,
       "version_minor": 0
      },
      "text/plain": [
       "FloatProgress(value=0.0, bar_style='info', description='Progress:', layout=Layout(height='25px', width='50%'),…"
      ]
     },
     "metadata": {},
     "output_type": "display_data"
    }
   ],
   "source": [
    "delays_pd = sampled_df.select('arrival_delay').toPandas()"
   ]
  },
  {
   "cell_type": "code",
   "execution_count": 46,
   "id": "a5687863-ebb8-48de-9365-4104cdcc5248",
   "metadata": {},
   "outputs": [
    {
     "data": {
      "application/vnd.jupyter.widget-view+json": {
       "model_id": "",
       "version_major": 2,
       "version_minor": 0
      },
      "text/plain": [
       "FloatProgress(value=0.0, bar_style='info', description='Progress:', layout=Layout(height='25px', width='50%'),…"
      ]
     },
     "metadata": {},
     "output_type": "display_data"
    },
    {
     "data": {
      "image/png": "[encoded data removed]",
      "text/plain": [
       "<IPython.core.display.Image object>"
      ]
     },
     "metadata": {},
     "output_type": "display_data"
    }
   ],
   "source": [
    "%%spark\n",
    "\n",
    "# Assuming delays_pd is your DataFrame and it contains the 'arrival_delay' column\n",
    "fig, ax = plt.subplots(nrows=1, ncols=1, figsize=(20, 9))\n",
    "\n",
    "# Plotting the histogram for arrival delay\n",
    "ax.hist(delays_pd.arrival_delay, color='b', bins=1000, density=True)\n",
    "\n",
    "# Setting the title and labels\n",
    "fig.suptitle('Distribution of the Arrival Delays', fontsize=30)\n",
    "ax.set_ylabel('Frequency', fontsize=20)\n",
    "ax.set_xlim(-100, 700)\n",
    "ax.set_xlabel('Arrival Delays (in seconds)', fontsize=20)\n",
    "\n",
    "\n",
    "# Display the plot\n",
    "plt.show()\n",
    "%matplot plt"
   ]
  },
  {
   "cell_type": "markdown",
   "id": "0618f784-38fb-4edb-a1a0-a9d15b07b5b4",
   "metadata": {},
   "source": [
    "The graph above shows the distribution of arrival delays across various stations. The data was sampled and processed to focus on arrival delays, which are measured in seconds."
   ]
  },
  {
   "cell_type": "markdown",
   "id": "f5e6090d-a583-4e09-bea7-28565522b8e4",
   "metadata": {},
   "source": [
    "The distribution of arrival delays appears to follow an exponential pattern. This is characterized by a high frequency of small delays and a rapid decline as the delay duration increases. The exponential distribution is often used to model the time between events in a Poison process. The distribution is heavily skewed to the right, with a long tail extending towards higher delay values. This indicates that while most delays are short, there are occasional longer delays that occur less frequently."
   ]
  },
  {
   "cell_type": "code",
   "execution_count": 47,
   "id": "d9261c0a-cd0d-447f-bf74-bd4ade1121dc",
   "metadata": {},
   "outputs": [
    {
     "data": {
      "application/vnd.jupyter.widget-view+json": {
       "model_id": "",
       "version_major": 2,
       "version_minor": 0
      },
      "text/plain": [
       "FloatProgress(value=0.0, bar_style='info', description='Progress:', layout=Layout(height='25px', width='50%'),…"
      ]
     },
     "metadata": {},
     "output_type": "display_data"
    },
    {
     "name": "stdout",
     "output_type": "stream",
     "text": [
      "+--------------------+----------+--------+--------+-------------+\n",
      "|           stop_name|product_id|hour_cat|day_name|arrival_delay|\n",
      "+--------------------+----------+--------+--------+-------------+\n",
      "|Ecublens VD, Villars|       Bus|       2|  Friday|          154|\n",
      "|            Lausanne|       Zug|       1| Tuesday|           58|\n",
      "|            Lausanne|       Zug|       2| Tuesday|           18|\n",
      "|            Lausanne|       Zug|       2| Tuesday|            6|\n",
      "|            Lausanne|       Zug|       2| Tuesday|           67|\n",
      "+--------------------+----------+--------+--------+-------------+\n",
      "only showing top 5 rows"
     ]
    }
   ],
   "source": [
    "sampled_df.show(5)"
   ]
  },
  {
   "cell_type": "markdown",
   "id": "0deed437-bc45-4c3e-8c67-259ea6d8520b",
   "metadata": {},
   "source": [
    "### Show the grouped dataframe we will use to get the delay"
   ]
  },
  {
   "cell_type": "code",
   "execution_count": 48,
   "id": "11cb7691-c169-4fa0-9e07-f5c690fb4d4c",
   "metadata": {},
   "outputs": [
    {
     "data": {
      "application/vnd.jupyter.widget-view+json": {
       "model_id": "",
       "version_major": 2,
       "version_minor": 0
      },
      "text/plain": [
       "FloatProgress(value=0.0, bar_style='info', description='Progress:', layout=Layout(height='25px', width='50%'),…"
      ]
     },
     "metadata": {},
     "output_type": "display_data"
    }
   ],
   "source": [
    "df_grouped = sampled_df.groupBy(\"stop_name\", \"hour_cat\",\"product_id\").agg( avg(col(\"arrival_delay\")).alias(\"avg_arrival_delay\"))"
   ]
  },
  {
   "cell_type": "code",
   "execution_count": 49,
   "id": "322d20f6-8906-42a0-8916-0b9d73ddf022",
   "metadata": {},
   "outputs": [
    {
     "data": {
      "application/vnd.jupyter.widget-view+json": {
       "model_id": "",
       "version_major": 2,
       "version_minor": 0
      },
      "text/plain": [
       "FloatProgress(value=0.0, bar_style='info', description='Progress:', layout=Layout(height='25px', width='50%'),…"
      ]
     },
     "metadata": {},
     "output_type": "display_data"
    },
    {
     "name": "stdout",
     "output_type": "stream",
     "text": [
      "+--------------------+--------+----------+------------------+\n",
      "|           stop_name|hour_cat|product_id| avg_arrival_delay|\n",
      "+--------------------+--------+----------+------------------+\n",
      "|            Bussigny|       1|       Zug|121.86344151867728|\n",
      "|Servion, poste/cr...|       2|       Bus|102.29711751662971|\n",
      "|Montblesson, Cent...|       2|       Bus|106.53459119496856|\n",
      "|          Pully-Nord|       2|       Zug| 95.59579100145137|\n",
      "|       La Conversion|       1|       Zug|100.92063492063492|\n",
      "+--------------------+--------+----------+------------------+\n",
      "only showing top 5 rows"
     ]
    }
   ],
   "source": [
    "df_grouped.show(5)"
   ]
  },
  {
   "cell_type": "code",
   "execution_count": 50,
   "id": "9f26d5f3-4d0d-4b64-a143-35d5aa9b1ab7",
   "metadata": {},
   "outputs": [
    {
     "data": {
      "application/vnd.jupyter.widget-view+json": {
       "model_id": "",
       "version_major": 2,
       "version_minor": 0
      },
      "text/plain": [
       "FloatProgress(value=0.0, bar_style='info', description='Progress:', layout=Layout(height='25px', width='50%'),…"
      ]
     },
     "metadata": {},
     "output_type": "display_data"
    },
    {
     "name": "stdout",
     "output_type": "stream",
     "text": [
      "127"
     ]
    }
   ],
   "source": [
    "print(df_grouped.count())"
   ]
  },
  {
   "cell_type": "markdown",
   "id": "df0f6576-a55e-4bf2-8430-f1969ce8a1a3",
   "metadata": {},
   "source": [
    "## Probability calculation"
   ]
  },
  {
   "cell_type": "code",
   "execution_count": 58,
   "id": "efdd9761-c4a2-4b0d-88ca-15f904e8d164",
   "metadata": {},
   "outputs": [
    {
     "data": {
      "application/vnd.jupyter.widget-view+json": {
       "model_id": "",
       "version_major": 2,
       "version_minor": 0
      },
      "text/plain": [
       "FloatProgress(value=0.0, bar_style='info', description='Progress:', layout=Layout(height='25px', width='50%'),…"
      ]
     },
     "metadata": {},
     "output_type": "display_data"
    }
   ],
   "source": [
    "def to_sec(hour):\n",
    "    '''\n",
    "    Transform a time given in a string format to seconds\n",
    "    input:\n",
    "        - string(hour): The string datetime in the format 'hh:mm:ss'\n",
    "    output:\n",
    "        - float(second): The number of seconds corresponding to the hour string\n",
    "    '''\n",
    "    split = hour.split(':')\n",
    "    return float(split[0])*60*60 + float(split[1])*60 + float(split[2])\n",
    "\n",
    "\n",
    "def exponential_distribution_proba(available_time, avg_delay):\n",
    "    if available_time <= 0 :\n",
    "        return 0\n",
    "    if avg_delay == 0:\n",
    "        return 1\n",
    "    proba =  1 - np.exp(-available_time/avg_delay)\n",
    "    \n",
    "    return proba \n",
    "\n",
    "def seconds_to_rounded_hour(seconds):\n",
    "    '''\n",
    "    Converts seconds to the nearest rounded down hour.\n",
    "\n",
    "    Args:\n",
    "    seconds (int): The number of seconds.\n",
    "\n",
    "    Returns:\n",
    "    int: The hour number rounded down.\n",
    "    '''\n",
    "    hours = seconds // 3600  \n",
    "    return hours\n",
    "    \n",
    "def get_hour_cat(num):\n",
    "    \"\"\"\n",
    "    Categorize the given number into two categories based on its value.\n",
    "    \n",
    "    Args:\n",
    "        num (int): The number to categorize.\n",
    "\n",
    "    Returns:\n",
    "        int: 1 if the number is 7, 8, 17, or 18 (rush time9 , otherwise 2 (normal time).\n",
    "    \"\"\"\n",
    "    if num in [7, 8, 17, 18]:\n",
    "        return 1\n",
    "    else:\n",
    "        return 2\n",
    "        \n",
    "def get_mean_delay_for_cat(hour_cat,df):\n",
    "    \n",
    "    delay = df.loc[df['hour_cat'] == hour_cat, 'mean_delay']\n",
    "    \n",
    "    if not delay.empty:\n",
    "        return delay.values[0] \n",
    "    else:\n",
    "        return None  "
   ]
  },
  {
   "cell_type": "markdown",
   "id": "c3609867-2e12-4175-ac04-cf69348939ea",
   "metadata": {},
   "source": [
    "Cumulative distribution function for exponential distribution\n",
    "$$\n",
    "F(x; \\lambda) = \\begin{cases} \n",
    "1 - e^{-\\lambda x} & \\text{if } x \\geq 0, \\\\\n",
    "0 & \\text{if } x < 0.\n",
    "\\end{cases}\n",
    "$$\n",
    "\n",
    "where **Mean** is : \n",
    "\n",
    "$$\n",
    "\\frac{1}{\\lambda}\n",
    "$$\n"
   ]
  },
  {
   "cell_type": "code",
   "execution_count": 59,
   "id": "f800c8d0-6f72-4516-872a-a1d548cfc3c5",
   "metadata": {},
   "outputs": [
    {
     "data": {
      "application/vnd.jupyter.widget-view+json": {
       "model_id": "",
       "version_major": 2,
       "version_minor": 0
      },
      "text/plain": [
       "FloatProgress(value=0.0, bar_style='info', description='Progress:', layout=Layout(height='25px', width='50%'),…"
      ]
     },
     "metadata": {},
     "output_type": "display_data"
    },
    {
     "name": "stdout",
     "output_type": "stream",
     "text": [
      "remote username=amrad\n",
      "hadoop_fs=hdfs://iccluster067.iccluster.epfl.ch:8020\n",
      "+---------+--------------------------------+-----------+\n",
      "|namespace|tableName                       |isTemporary|\n",
      "+---------+--------------------------------+-----------+\n",
      "|amrad    |epd_expr_csv                    |false      |\n",
      "|amrad    |epd_sam_csv                     |false      |\n",
      "|amrad    |assignments                     |false      |\n",
      "|amrad    |sbb_stops_lausanne_region       |false      |\n",
      "|amrad    |sbb_stop_to_stop_lausanne_region|false      |\n",
      "|amrad    |sbb_stop_times_lausanne_region  |false      |\n",
      "|amrad    |weather_df                      |false      |\n",
      "|amrad    |grouped_data                    |false      |\n",
      "|amrad    |delay_clean_df                  |false      |\n",
      "+---------+--------------------------------+-----------+"
     ]
    }
   ],
   "source": [
    "# save the df to hdfs \n",
    "username=spark.conf.get('spark.executorEnv.USERNAME', 'anonymous')\n",
    "hadoop_fs=spark.conf.get('spark.executorEnv.HADOOP_DEFAULT_FS','hdfs://iccluster067.iccluster.epfl.ch:8020')\n",
    "print(f\"remote username={username}\\nhadoop_fs={hadoop_fs}\")\n",
    "\n",
    "spark.sql(f\"CREATE DATABASE IF NOT EXISTS {username}\")\n",
    "spark.sql(f\"USE {username}\")\n",
    "table_name = \"delay_clean_df\"\n",
    "merged_df_clean_new.write.mode(\"overwrite\").saveAsTable(f\"{username}.{table_name}\")\n",
    "spark.sql(f\"SHOW TABLES IN {username}\").show(truncate=False)"
   ]
  },
  {
   "cell_type": "markdown",
   "id": "6ff88728-bd56-4280-b92a-2be3b1ee8de8",
   "metadata": {},
   "source": [
    "## Validation "
   ]
  },
  {
   "cell_type": "code",
   "execution_count": 69,
   "id": "308a1b5b-0386-4920-b562-1e65fa911955",
   "metadata": {},
   "outputs": [
    {
     "data": {
      "application/vnd.jupyter.widget-view+json": {
       "model_id": "",
       "version_major": 2,
       "version_minor": 0
      },
      "text/plain": [
       "FloatProgress(value=0.0, bar_style='info', description='Progress:', layout=Layout(height='25px', width='50%'),…"
      ]
     },
     "metadata": {},
     "output_type": "display_data"
    },
    {
     "name": "stdout",
     "output_type": "stream",
     "text": [
      "Mean Square Error of the delay: 18511.598760301327"
     ]
    }
   ],
   "source": [
    "avg_delay = merged_df_clean_new.select('stop_name', 'product_id', 'hour_cat', 'arrival_delay').groupBy('stop_name', 'product_id', 'hour_cat').agg(F.avg('arrival_delay').alias(\"average_delay\"))\n",
    "\n",
    "mse_df = merged_df_clean_new.join(avg_delay, on=['stop_name', 'product_id', 'hour_cat'])\n",
    "\n",
    "mse_df = mse_df.withColumn(\"squared_error\", (mse_df.arrival_delay - mse_df.average_delay) ** 2)\n",
    "\n",
    "mse = mse_df.agg(F.avg(\"squared_error\").alias(\"mse\")).collect()[0]['mse']"
   ]
  },
  {
   "cell_type": "code",
   "execution_count": 73,
   "id": "479b1571-655e-4b5e-90bf-1f65fd706b79",
   "metadata": {},
   "outputs": [
    {
     "data": {
      "application/vnd.jupyter.widget-view+json": {
       "model_id": "",
       "version_major": 2,
       "version_minor": 0
      },
      "text/plain": [
       "FloatProgress(value=0.0, bar_style='info', description='Progress:', layout=Layout(height='25px', width='50%'),…"
      ]
     },
     "metadata": {},
     "output_type": "display_data"
    },
    {
     "name": "stdout",
     "output_type": "stream",
     "text": [
      "Mean Square Error of the delay: 18511.598760301327\n",
      "Root Mean Square Error of the delay: 136.05733629724392 seconds\n",
      "Root Mean Square Error of the delay: 2.267622271620732 minutes"
     ]
    }
   ],
   "source": [
    "# Printing the MSE\n",
    "print(\"Mean Square Error of the delay:\", mse)\n",
    "rmse = np.sqrt(mse)\n",
    "print(\"Root Mean Square Error of the delay:\", rmse, \"seconds\")\n",
    "print(\"Root Mean Square Error of the delay:\", rmse/60, \"minutes\")"
   ]
  },
  {
   "cell_type": "markdown",
   "id": "372f6546-6274-4ff0-9bab-4ce60c978ccc",
   "metadata": {},
   "source": [
    "After computing the root mean squared error of the arrival delays compared to the mean delay in each stop for a given transport type and time category, we find that the rsme is of 2.26 minutes. This result is convincing in the fact that the way we compute the estimated delay is correct. The estimated delays don't deviate much from the mean we computed"
   ]
  },
  {
   "cell_type": "markdown",
   "id": "1e538021-b9f2-4b3c-bea8-be9dfc1a7189",
   "metadata": {},
   "source": [
    "# END"
   ]
  },
  {
   "cell_type": "code",
   "execution_count": 63,
   "id": "e9f6adb7-b2c7-4790-9ac7-e4b583890e32",
   "metadata": {},
   "outputs": [
    {
     "data": {
      "application/vnd.jupyter.widget-view+json": {
       "model_id": "",
       "version_major": 2,
       "version_minor": 0
      },
      "text/plain": [
       "FloatProgress(value=0.0, bar_style='info', description='Progress:', layout=Layout(height='25px', width='50%'),…"
      ]
     },
     "metadata": {},
     "output_type": "display_data"
    }
   ],
   "source": [
    "#spark.stop()"
   ]
  }
 ],
 "metadata": {
  "kernelspec": {
   "display_name": "PySpark",
   "language": "python",
   "name": "pysparkkernel"
  },
  "language_info": {
   "codemirror_mode": {
    "name": "python",
    "version": 3
   },
   "file_extension": ".py",
   "mimetype": "text/x-python",
   "name": "pyspark",
   "pygments_lexer": "python3"
  }
 },
 "nbformat": 4,
 "nbformat_minor": 5
}
