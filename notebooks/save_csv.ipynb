{
 "cells": [
  {
   "cell_type": "markdown",
   "id": "e400f048-2043-437d-8a5e-05f9f64bd653",
   "metadata": {},
   "source": [
    "# this notebook is used to save the hdfs tables into csv files "
   ]
  },
  {
   "cell_type": "markdown",
   "id": "4ac4a463-4002-4f6e-9b17-2457b984d697",
   "metadata": {},
   "source": [
    "we first begin seeting up hdfs"
   ]
  },
  {
   "cell_type": "code",
   "execution_count": 2,
   "id": "bf0be2ca-0833-42de-a55c-bf705f6e44f4",
   "metadata": {},
   "outputs": [
    {
     "name": "stdout",
     "output_type": "stream",
     "text": [
      "hadoop hdfs URL is hdfs://iccluster067.iccluster.epfl.ch:8020\n",
      "your username is charfi\n",
      "you are connected to iccluster080.iccluster.epfl.ch:10000\n"
     ]
    }
   ],
   "source": [
    "import os\n",
    "from pyhive import hive\n",
    "import warnings\n",
    "warnings.simplefilter(action='ignore', category=UserWarning)\n",
    "import pandas as pd\n",
    "\n",
    "default_db = 'com490'\n",
    "hive_server = os.environ.get('HIVE_SERVER','iccluster080.iccluster.epfl.ch:10000')\n",
    "hadoop_fs = os.environ.get('HADOOP_DEFAULT_FS','hdfs://iccluster067.iccluster.epfl.ch:8020')\n",
    "username  = os.environ.get('USER', 'anonym')\n",
    "(hive_host, hive_port) = hive_server.split(':')\n",
    "\n",
    "conn = hive.connect(\n",
    "    host=hive_host,\n",
    "    port=hive_port,\n",
    "    username=username\n",
    ")\n",
    "\n",
    "# create cursor\n",
    "cur = conn.cursor()\n",
    "\n",
    "print(f\"hadoop hdfs URL is {hadoop_fs}\")\n",
    "print(f\"your username is {username}\")\n",
    "print(f\"you are connected to {hive_host}:{hive_port}\")"
   ]
  },
  {
   "cell_type": "code",
   "execution_count": 3,
   "id": "6a7191ea-9845-45a0-a902-a4ce7b46ca27",
   "metadata": {},
   "outputs": [
    {
     "data": {
      "text/plain": [
       "[('assignments',),\n",
       " ('grouped_data',),\n",
       " ('istdaten_lausanne',),\n",
       " ('lausanne_pairs_df',),\n",
       " ('sbb_csv',),\n",
       " ('sbb_istdaten_latest',),\n",
       " ('sbb_istdaten_latest_parquet',),\n",
       " ('sbb_orc',),\n",
       " ('sbb_parquet',),\n",
       " ('sbb_stop_times_lausanne_region',),\n",
       " ('sbb_stop_to_stop_lausanne_region',),\n",
       " ('sbb_stops_lausanne_region',),\n",
       " ('walking_graph',),\n",
       " ('weather_df',)]"
      ]
     },
     "execution_count": 3,
     "metadata": {},
     "output_type": "execute_result"
    }
   ],
   "source": [
    "cur.execute(f\"SHOW TABLES IN {username}\")\n",
    "cur.fetchall()"
   ]
  },
  {
   "cell_type": "code",
   "execution_count": 5,
   "id": "63856695-cf15-4f5d-a685-4621e6e1f38d",
   "metadata": {},
   "outputs": [],
   "source": [
    "pd.set_option(\"display.max_columns\", 50)"
   ]
  },
  {
   "cell_type": "markdown",
   "id": "b892c8d2-1bfe-45c7-a0fc-ac288f39085e",
   "metadata": {},
   "source": [
    "# saving lausanne pairs table into a csv file "
   ]
  },
  {
   "cell_type": "code",
   "execution_count": null,
   "id": "a7507d58-c336-47fe-9739-1ffd2c7d062d",
   "metadata": {},
   "outputs": [],
   "source": [
    "query =f\"\"\"SELECT * FROM {username}.lausanne_pairs_df\"\"\"\n",
    "stops_df =pd.read_sql(query,conn)\n",
    "stops_df.to_csv('data/lausanne_pairs_df.csv')"
   ]
  },
  {
   "cell_type": "markdown",
   "id": "8809de6f-0669-48c2-81df-d462fd2ee861",
   "metadata": {},
   "source": [
    "# saving the walking table into a csv file "
   ]
  },
  {
   "cell_type": "code",
   "execution_count": null,
   "id": "9cd40133-8e18-402d-af1f-355a96e8d692",
   "metadata": {},
   "outputs": [],
   "source": [
    "query =f\"\"\"SELECT * FROM {username}.walking_graph\"\"\"\n",
    "stops_df =pd.read_sql(query,conn)\n",
    "stops_df.to_csv('data/walking_graph.csv')"
   ]
  },
  {
   "cell_type": "markdown",
   "id": "cc3f53bb-af6f-4fe6-a2e7-23b14dd3942c",
   "metadata": {},
   "source": [
    "# saving delay table into a csv file "
   ]
  },
  {
   "cell_type": "code",
   "execution_count": null,
   "id": "217dd100-6456-4d15-8bcf-a48dec894211",
   "metadata": {},
   "outputs": [],
   "source": [
    "query =f\"\"\"SELECT * FROM {username}.delay_clean_df\"\"\"\n",
    "stops_df =pd.read_sql(query,conn)\n",
    "stops_df.to_csv('data/delay_clean_df.csv')"
   ]
  }
 ],
 "metadata": {
  "kernelspec": {
   "display_name": "Python 3 (ipykernel)",
   "language": "python",
   "name": "python3"
  },
  "language_info": {
   "codemirror_mode": {
    "name": "ipython",
    "version": 3
   },
   "file_extension": ".py",
   "mimetype": "text/x-python",
   "name": "python",
   "nbconvert_exporter": "python",
   "pygments_lexer": "ipython3",
   "version": "3.11.7"
  }
 },
 "nbformat": 4,
 "nbformat_minor": 5
}
